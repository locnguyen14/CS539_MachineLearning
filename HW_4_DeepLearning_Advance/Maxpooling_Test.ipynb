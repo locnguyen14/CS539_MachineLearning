{
 "cells": [
  {
   "cell_type": "code",
   "execution_count": 1,
   "metadata": {},
   "outputs": [],
   "source": [
    "# Import necessary library\n",
    "import torch as th\n",
    "import torch.nn as nn\n",
    "from torch.optim import SGD\n",
    "import math"
   ]
  },
  {
   "cell_type": "code",
   "execution_count": 2,
   "metadata": {},
   "outputs": [],
   "source": [
    "# Max Pooling Function\n",
    "def maxpooling(a):\n",
    "    '''\n",
    "        Compute the 2D max pooling (assuming shape of the pooling window is 2 by 2).\n",
    "        Input:\n",
    "            a:  the feature map of one instance, a float torch Tensor of shape (n by n_filter by h by w). n is the batch size, n_filter is the number of filters in Conv2D.\n",
    "                h and w are height and width after ReLU.\n",
    "        Output:\n",
    "            p: the tensor after max pooling, a float torch tensor of shape n by n_filter by floor(h/2) by floor(w/2).\n",
    "        Note: please do NOT use torch.nn.MaxPool2d or torch.nn.functional.max_pool2d or max_pool1d, implement your own version using only basic tensor operations.\n",
    "        Note: if there are mulitple max values, select the one with the smallest index.\n",
    "    '''\n",
    "    #########################################\n",
    "    # INSERT YOUR CODE HERE\n",
    "    n, n_filter, h, w = a.shape  # return all the dimension of the filter\n",
    "\n",
    "    # Initilize the tensor after pooling\n",
    "    p = th.zeros((n, n_filter, math.floor(h / 2), math.floor(w / 2)))\n",
    "\n",
    "    # Iterate over n, n_filter,h, and w\n",
    "    # Here, remmber to keep track of pooling layer index by dividing by 2\n",
    "    for i in range(n):\n",
    "        for j in range(n_filter):\n",
    "            for k in range(0, h - 1, 2):\n",
    "                for l in range(0, w - 1, 2):\n",
    "                    p[i, j, int(k / 2), int(l / 2)] = th.max(a[i, j, k:k + 2, l:l + 2])\n",
    "    #########################################\n",
    "    return p"
   ]
  },
  {
   "cell_type": "code",
   "execution_count": 3,
   "metadata": {},
   "outputs": [],
   "source": [
    "# Create two tensor for testing\n",
    "a = th.tensor([[[[ 0., 1.],\n",
    "                     [ 1., 0.]]]],requires_grad=True)\n",
    "\n",
    "a_true = th.tensor([[[[ 0., 1.],\n",
    "                          [ 1., 0.]]]],requires_grad=True)"
   ]
  },
  {
   "cell_type": "code",
   "execution_count": 4,
   "metadata": {},
   "outputs": [],
   "source": [
    "p = maxpooling(a) # using our own implementation maxpool\n",
    "p_true = th.nn.functional.max_pool2d(a_true,kernel_size=2) # using the library in pytroch"
   ]
  },
  {
   "cell_type": "code",
   "execution_count": 5,
   "metadata": {},
   "outputs": [
    {
     "data": {
      "text/plain": [
       "tensor([[[[1.]]]], grad_fn=<CopySlices>)"
      ]
     },
     "execution_count": 5,
     "metadata": {},
     "output_type": "execute_result"
    }
   ],
   "source": [
    "p"
   ]
  },
  {
   "cell_type": "code",
   "execution_count": 6,
   "metadata": {},
   "outputs": [
    {
     "data": {
      "text/plain": [
       "tensor([[[[1.]]]], grad_fn=<MaxPool2DWithIndicesBackward>)"
      ]
     },
     "execution_count": 6,
     "metadata": {},
     "output_type": "execute_result"
    }
   ],
   "source": [
    "p_true"
   ]
  },
  {
   "cell_type": "code",
   "execution_count": 7,
   "metadata": {},
   "outputs": [],
   "source": [
    "# Checking for gradients?\n",
    "t = p.sum()\n",
    "t.backward()\n",
    "\n",
    "t_true = p_true.sum()\n",
    "t_true.backward()"
   ]
  },
  {
   "cell_type": "code",
   "execution_count": 8,
   "metadata": {},
   "outputs": [
    {
     "data": {
      "text/plain": [
       "tensor([[[[0., 1.],\n",
       "          [1., 0.]]]])"
      ]
     },
     "execution_count": 8,
     "metadata": {},
     "output_type": "execute_result"
    }
   ],
   "source": [
    "a.grad.data"
   ]
  },
  {
   "cell_type": "code",
   "execution_count": 9,
   "metadata": {},
   "outputs": [
    {
     "data": {
      "text/plain": [
       "tensor([[[[0., 1.],\n",
       "          [0., 0.]]]])"
      ]
     },
     "execution_count": 9,
     "metadata": {},
     "output_type": "execute_result"
    }
   ],
   "source": [
    "a_true.grad.data"
   ]
  },
  {
   "cell_type": "code",
   "execution_count": null,
   "metadata": {},
   "outputs": [],
   "source": []
  }
 ],
 "metadata": {
  "kernelspec": {
   "display_name": "Python 2",
   "language": "python",
   "name": "python2"
  },
  "language_info": {
   "codemirror_mode": {
    "name": "ipython",
    "version": 3
   },
   "file_extension": ".py",
   "mimetype": "text/x-python",
   "name": "python",
   "nbconvert_exporter": "python",
   "pygments_lexer": "ipython3",
   "version": "3.6.7"
  }
 },
 "nbformat": 4,
 "nbformat_minor": 2
}
